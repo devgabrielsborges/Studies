{
 "cells": [
  {
   "cell_type": "markdown",
   "metadata": {},
   "source": [
    "## Essencial de `C#`\n",
    "\n",
    "- Como escrever no console\n",
    "- Como declarar variáveis\n",
    "- Operadores condicionais\n",
    "- Estruturas de repetição\n",
    "- Funções\n",
    "- Arrays\n",
    "- Enum"
   ]
  },
  {
   "cell_type": "markdown",
   "metadata": {},
   "source": [
    "## Como escrever no console"
   ]
  },
  {
   "cell_type": "code",
   "execution_count": null,
   "metadata": {
    "vscode": {
     "languageId": "csharp"
    }
   },
   "outputs": [],
   "source": [
    "class Program   // nome da classe principal, que deve ter o mesmo nome do arquivo\n",
    "{\n",
    "    static void Main()   // método principal, que é chamado quando o programa é executado\n",
    "    {\n",
    "        System.Console.WriteLine(\"Hello, World!\");   // imprime \"Hello, World!\" no console, quebrando a linha ao final\n",
    "    }\n",
    "}"
   ]
  },
  {
   "cell_type": "markdown",
   "metadata": {},
   "source": [
    "## Como declarar variáveis"
   ]
  },
  {
   "cell_type": "code",
   "execution_count": null,
   "metadata": {
    "vscode": {
     "languageId": "csharp"
    }
   },
   "outputs": [],
   "source": [
    "class Program\n",
    "{\n",
    "    static void Main()\n",
    "    {\n",
    "        int num = 10;   // declara uma variável inteira chamada num e atribui o valor 10 a ela\n",
    "        System.Console.WriteLine(num);   // imprime o valor da variável num no console\n",
    "    }\n",
    "}"
   ]
  },
  {
   "cell_type": "code",
   "execution_count": null,
   "metadata": {
    "vscode": {
     "languageId": "csharp"
    }
   },
   "outputs": [],
   "source": [
    "class Program\n",
    "{\n",
    "    static void Main()\n",
    "    {\n",
    "        int num1 = 10;   // declara uma variável inteira chamada num1 e atribui o valor 10 a ela\n",
    "        int num2 = 20;   // declara uma variável inteira chamada num2 e atribui o valor 20 a ela\n",
    "        int soma = num1 + num2;   // declara uma variável inteira chamada soma e atribui a ela a soma dos valores de num1 e num2\n",
    "        System.Console.WriteLine(soma);   // imprime o valor da variável soma no console\n",
    "    }\n",
    "}"
   ]
  },
  {
   "cell_type": "code",
   "execution_count": null,
   "metadata": {
    "vscode": {
     "languageId": "csharp"
    }
   },
   "outputs": [],
   "source": [
    "class Program\n",
    "{\n",
    "    static void Main(string[] args)\n",
    "    {\n",
    "        Console.Write(\"Digite sua idade\");   // imprime a mensagem \"Digite sua idade\" no console\n",
    "        int idade = int.Parse(Console.ReadLine());   // lê a entrada do usuário, converte para inteiro e atribui à variável idade\n",
    "        Console.WriteLine($\"Sua idade é {idade}\");   // imprime a mensagem \"Sua idade é\" seguida do valor da variável idade\n",
    "    }\n",
    "}\n"
   ]
  },
  {
   "cell_type": "code",
   "execution_count": null,
   "metadata": {
    "vscode": {
     "languageId": "csharp"
    }
   },
   "outputs": [],
   "source": [
    "class Program\n",
    "{\n",
    "    static void Main(string[] args)\n",
    "    {\n",
    "        int A = 10, B = 50;   // declara duas variáveis inteiras, A e B, e atribui valores a elas\n",
    "        Console.WriteLine($\"A soma entre {A} e {B} é {A + B}\");   // imprime a soma dos valores de A e B\n",
    "    }\n",
    "}\n"
   ]
  },
  {
   "cell_type": "code",
   "execution_count": null,
   "metadata": {
    "vscode": {
     "languageId": "csharp"
    }
   },
   "outputs": [],
   "source": [
    "using System;\n",
    "using System.Collections.Generic;\n",
    "using System.Linq;\n",
    "using System.Text;\n",
    "using System.Threading.Tasks;\n",
    "\n",
    "namespace ConsoleApp1;\n",
    "\n",
    "class Program\n",
    "{\n",
    "    static void Main(string[] args)\n",
    "    {\n",
    "        Console.Write(\"Digite o valor em reais: \");\n",
    "        // chama o método get_dolar, passando o valor digitado pelo usuário como argumento\n",
    "        Console.WriteLine(\n",
    "            $\"O valor digitado equivale a {get_dolar(float.Parse(Console.ReadLine()))} dólares\"\n",
    "            );\n",
    "    }   \n",
    "    static float get_dolar(float reais)   // método que recebe um parâmetro chamado reais e retorna um valor float\n",
    "    {\n",
    "        /*\n",
    "         Comentário multi-linha\n",
    "         Função para converter o valor em reais para dólares\n",
    "         */\n",
    "        float conversao = reais * 5.4f;\n",
    "        return conversao;\n",
    "    }\n",
    "   \n",
    "}\n"
   ]
  },
  {
   "cell_type": "markdown",
   "metadata": {},
   "source": [
    "## Operadores condicionais"
   ]
  },
  {
   "cell_type": "code",
   "execution_count": null,
   "metadata": {
    "vscode": {
     "languageId": "csharp"
    }
   },
   "outputs": [],
   "source": [
    "class Program\n",
    "{\n",
    "    static void Main(string[] args)\n",
    "    {\n",
    "        Console.Write(\"Digite o valor de A: \");\n",
    "        int A = int.Parse(Console.ReadLine());\n",
    "\n",
    "        Console.Write(\"Digite o valor de B: \");\n",
    "        int B = int.Parse(Console.ReadLine());\n",
    "        \n",
    "        if ((A + B) % 2 == 0)   // verifica se a soma de A e B é par\n",
    "        {\n",
    "            Console.WriteLine(\"A soma é par\");\n",
    "        }\n",
    "        else   // se não for par, é ímpar\n",
    "        {\n",
    "            Console.WriteLine(\"A soma é ímpar\");\n",
    "        }\n",
    "    }   \n",
    "}"
   ]
  },
  {
   "cell_type": "code",
   "execution_count": null,
   "metadata": {
    "vscode": {
     "languageId": "csharp"
    }
   },
   "outputs": [],
   "source": [
    "class Program\n",
    "{\n",
    "    static void Main(string[] args)\n",
    "    {\n",
    "        Console.Write(\"Digite o valor de A: \");\n",
    "        int A = int.Parse(Console.ReadLine());\n",
    "\n",
    "        Console.Write(\"Digite o valor de B: \");\n",
    "        int B = int.Parse(Console.ReadLine());\n",
    "\n",
    "        if (A + B > 10 && (A + B) % 2 == 0)   // verifica se a soma de A e B é maior que 10 e par\n",
    "        {\n",
    "            Console.WriteLine(\"A soma é maior que 10 e é par\");\n",
    "        }\n",
    "        else if ((A + B) % 2 == 0)   // se não for maior que 10, verifica se é par\n",
    "        {\n",
    "            Console.WriteLine(\"A soma é par\");\n",
    "        }\n",
    "        else   // se não for par, é ímpar\n",
    "        {\n",
    "            Console.WriteLine(\"A soma é ímpar\");\n",
    "        }\n",
    "    }\n",
    "}"
   ]
  },
  {
   "cell_type": "code",
   "execution_count": null,
   "metadata": {
    "vscode": {
     "languageId": "csharp"
    }
   },
   "outputs": [],
   "source": [
    "class Program\n",
    "{\n",
    "    static void Main(string[] args)\n",
    "    {\n",
    "        Console.Write(\"Digite o valor de A: \");\n",
    "        int A = int.Parse(Console.ReadLine());\n",
    "\n",
    "        Console.Write(\"Digite o valor de B: \");\n",
    "        int B = int.Parse(Console.ReadLine());\n",
    "\n",
    "        if (A + B > 10 || (A + B) % 2 == 0)   // verifica se a soma de A e B é maior que 10 ou par\n",
    "        {\n",
    "            Console.WriteLine(\"A soma é maior que 10 ou é par\");\n",
    "        }\n",
    "        else if ((A + B) % 2 == 0)\n",
    "        {\n",
    "            Console.WriteLine(\"A soma é par\");\n",
    "        }\n",
    "        else\n",
    "        {\n",
    "            Console.WriteLine(\"A soma é ímpar\");\n",
    "        }\n",
    "    }\n",
    "}"
   ]
  },
  {
   "cell_type": "markdown",
   "metadata": {},
   "source": [
    "## Estruturas de repetição"
   ]
  },
  {
   "cell_type": "code",
   "execution_count": null,
   "metadata": {
    "vscode": {
     "languageId": "csharp"
    }
   },
   "outputs": [],
   "source": [
    "class Program\n",
    "{\n",
    "    static void Main(string[] args)\n",
    "    {\n",
    "        for (int num = 1; num <= 10; num++)   // inicia a variável num com 1, repete enquanto num for menor ou igual a 10, incrementa num a cada iteração\n",
    "        {\n",
    "            Console.WriteLine(num);   // imprime o valor de num\n",
    "        }\n",
    "    }\n",
    "}"
   ]
  },
  {
   "cell_type": "code",
   "execution_count": null,
   "metadata": {
    "vscode": {
     "languageId": "csharp"
    }
   },
   "outputs": [],
   "source": [
    "class Program\n",
    "{\n",
    "    static void Main(string[] args)\n",
    "    {\n",
    "        int num = 1;\n",
    "\n",
    "        while (num <= 10)   // repete enquanto num for menor ou igual a 10\n",
    "        {\n",
    "            Console.WriteLine(num);\n",
    "            num++;   // incrementa num a cada iteração\n",
    "        }\n",
    "    }\n",
    "}\n"
   ]
  },
  {
   "cell_type": "code",
   "execution_count": null,
   "metadata": {
    "vscode": {
     "languageId": "csharp"
    }
   },
   "outputs": [],
   "source": [
    "class Program\n",
    "{\n",
    "    static void Main(string[] args)\n",
    "    {\n",
    "        int opcao;   // declara uma variável inteira chamada opcao\n",
    "        do   // executa o bloco de código pelo menos uma vez\n",
    "        {\n",
    "            opcao = int.Parse(Console.ReadLine());\n",
    "        } while (opcao != 0);   // repete enquanto a opcao for diferente de 0\n",
    "    }\n",
    "}"
   ]
  },
  {
   "cell_type": "code",
   "execution_count": null,
   "metadata": {
    "vscode": {
     "languageId": "csharp"
    }
   },
   "outputs": [],
   "source": [
    "class Program\n",
    "{\n",
    "    static void Main(string[] args)\n",
    "    {\n",
    "        int[] numeros = new int[5]   // array de inteiros com 5 elementos\n",
    "        {\n",
    "            5, 4, 3, 2, 1\n",
    "        };\n",
    "\n",
    "        foreach(int numero in numeros) // para cada número no array números\n",
    "        {\n",
    "            Console.WriteLine(numero);   // imprime o número\n",
    "        }\n",
    "    }\n",
    "}"
   ]
  },
  {
   "cell_type": "code",
   "execution_count": null,
   "metadata": {
    "vscode": {
     "languageId": "csharp"
    }
   },
   "outputs": [],
   "source": [
    "class Program\n",
    "{\n",
    "    static void Main(string[] args)\n",
    "    {\n",
    "        Console.WriteLine(\"Oi, digite seu nome: \");\n",
    "        Oi_nome(Console.ReadLine());   // chama o método Oi_nome, passando o nome digitado pelo usuário como argumento\n",
    "    }\n",
    "    static void Oi_nome(string nome)   // método que recebe um parâmetro chamado nome\n",
    "    {\n",
    "        Console.WriteLine($\"Olá!! {nome}\");   // imprime uma mensagem com o nome recebido como parâmetro\n",
    "    }\n",
    "}\n"
   ]
  },
  {
   "cell_type": "code",
   "execution_count": null,
   "metadata": {
    "vscode": {
     "languageId": "csharp"
    }
   },
   "outputs": [],
   "source": [
    "class Program\n",
    "{\n",
    "    static void Main(string[] args)\n",
    "    {\n",
    "        Console.Write(\"Digite o valor em reais: \");\n",
    "        get_dolar(float.Parse(Console.ReadLine()));\n",
    "    }\n",
    "    static void get_dolar(float reais)   // método que recebe um parâmetro chamado reais\n",
    "    {\n",
    "        /*\n",
    "         Comentário multi-linha\n",
    "         Função para converter o valor em reais para dólares\n",
    "         */\n",
    "        float conversao = reais * 5.4f;   // converte o valor em reais para dólares\n",
    "        Console.WriteLine($\"{reais} reais são {conversao} dólares\");\n",
    "    }\n",
    "   \n",
    "}"
   ]
  },
  {
   "cell_type": "markdown",
   "metadata": {},
   "source": [
    "## Arrays"
   ]
  },
  {
   "cell_type": "code",
   "execution_count": null,
   "metadata": {
    "vscode": {
     "languageId": "csharp"
    }
   },
   "outputs": [],
   "source": [
    "class Program\n",
    "{\n",
    "    static void Main(string[] args)\n",
    "    {\n",
    "        string[] produtos = new string[3]   // declara um array de strings com 3 elementos\n",
    "        {\n",
    "            \"Minecraft\",\n",
    "            \"Fifa\",\n",
    "            \"Pycharm\"\n",
    "        };\n",
    "\n",
    "        Console.WriteLine(produtos[1]);   // imprime o segundo elemento do array  --> Fifa\n",
    "    }   \n",
    "}"
   ]
  },
  {
   "cell_type": "code",
   "execution_count": null,
   "metadata": {
    "vscode": {
     "languageId": "csharp"
    }
   },
   "outputs": [],
   "source": [
    "class Program\n",
    "{\n",
    "    static void Main(string[] args)\n",
    "    {\n",
    "        string[] produtos = { \"Minecraft\", \"Fifa\", \"Pycharm\" };   // declara e inicializa um array de strings\n",
    "\n",
    "        Console.WriteLine(produtos[1]);   // imprime o segundo elemento do array  --> Fifa\n",
    "    }\n",
    "}"
   ]
  },
  {
   "cell_type": "markdown",
   "metadata": {},
   "source": [
    "## Switch"
   ]
  },
  {
   "cell_type": "code",
   "execution_count": null,
   "metadata": {
    "vscode": {
     "languageId": "csharp"
    }
   },
   "outputs": [],
   "source": [
    "class Program\n",
    "{\n",
    "    static void Main(string[] args)\n",
    "    {\n",
    "        Console.WriteLine(\"Digite 1 para somar; Digite 2 para subtrair; Digite 3 para encerrar o programa. \");\n",
    "        int condicao = int.Parse(Console.ReadLine());\n",
    "\n",
    "        switch (condicao)   // switch case - condicionais apenas para igualdade\n",
    "        {\n",
    "            case 1:      // caso a condição seja 1\n",
    "                Console.WriteLine(1 + 1);\n",
    "                break;   // break para finalizar o case\n",
    "            case 2:   // caso a condição seja 2\n",
    "                Console.WriteLine(1 - 1);\n",
    "                break;\n",
    "            case 3:   // caso a condição seja 3\n",
    "                Console.WriteLine(\"Tchauu \");\n",
    "                break;\n",
    "            default:   // caso a condição não seja nenhuma das anteriores\n",
    "               Console.WriteLine(\"Dígito inválido\");\n",
    "               break;\n",
    "        };\n",
    "    }\n",
    "}"
   ]
  },
  {
   "cell_type": "markdown",
   "metadata": {},
   "source": [
    "## Enum -> semelhante à tuplas. Criando tipos de dados"
   ]
  },
  {
   "cell_type": "code",
   "execution_count": null,
   "metadata": {
    "vscode": {
     "languageId": "csharp"
    }
   },
   "outputs": [],
   "source": [
    "class Program\n",
    "{\n",
    "    enum aulas { Computacao, Engenharia, Português }   // declara um enum chamado aulas com os valores Computacao, Engenharia e Português\n",
    "    static void Main(string[] args)\n",
    "    {\n",
    "        aulas aula_favorita = aulas.Computacao;   // declara uma variável do tipo aulas e atribui o valor Computacao a ela\n",
    "        aulas pior_aula = aulas.Português;     // declara uma variável do tipo aulas e atribui o valor Português a ela\n",
    "\n",
    "        \n",
    "        Console.WriteLine(aula_favorita);\n",
    "        Console.WriteLine(pior_aula);\n",
    "\n",
    "        Console.WriteLine((aulas)1);   // imprime o valor do enum no índice 1\n",
    "        \n",
    "\n",
    "    }\n",
    "}\n"
   ]
  },
  {
   "cell_type": "code",
   "execution_count": null,
   "metadata": {
    "vscode": {
     "languageId": "csharp"
    }
   },
   "outputs": [],
   "source": [
    "class Program\n",
    "{\n",
    "    enum aulas { Computacao = 1, Engenharia, Português }   // declara um enum chamado aulas com os valores Computacao, Engenharia e Português, atribuindo valores inteiros a eles\n",
    "    static void Main(string[] args)\n",
    "    {\n",
    "        Console.WriteLine(\"Selecione uma das aulas abaixo para faltar\");\n",
    "        Console.WriteLine($\"1-{(aulas)1}\\n2-{(aulas)2}\\n3-{(aulas)3}\");\n",
    "\n",
    "        int index = int.Parse(Console.ReadLine());   // lê a entrada do usuário e converte para inteiro\n",
    "\n",
    "        aulas opcao = (aulas)index;   // converte o valor inteiro para o enum aulas\n",
    "\n",
    "        switch (opcao)\n",
    "        {\n",
    "            case aulas.Computacao:   // caso a opção seja Computacao\n",
    "                Console.WriteLine(\"Tá vacilando\");\n",
    "                break;\n",
    "            case aulas.Engenharia:   // caso a opção seja Engenharia\n",
    "                Console.WriteLine(\"Aceitável\");\n",
    "                break;\n",
    "            case aulas.Português:   // caso a opção seja Português\n",
    "                Console.WriteLine(\"Esperado\");\n",
    "                break;\n",
    "            default:   // caso a opção não seja nenhuma das anteriores\n",
    "                Console.WriteLine(\"Opção não encontrada\");\n",
    "                break;\n",
    "        }\n",
    "    }\n",
    "}"
   ]
  },
  {
   "cell_type": "markdown",
   "metadata": {},
   "source": [
    "## Dicionários"
   ]
  },
  {
   "cell_type": "code",
   "execution_count": null,
   "metadata": {
    "vscode": {
     "languageId": "csharp"
    }
   },
   "outputs": [],
   "source": [
    "using System.Collections.Generic;   // importa o namespace System.Collections.Generic\n",
    "\n",
    "class Program\n",
    "{\n",
    "    static void Main(string[] args)\n",
    "    {\n",
    "        Dictionary<string, string> dicionario = new Dictionary<string, string>();   // declara um dicionário com chaves e valores do tipo string\n",
    "        dicionario[\"nome\"] = \"gabriel\";  // adiciona uma chave \"nome\" com o valor \"gabriel\"\n",
    "\n",
    "        if dicionario.ContainsKey(\"nome\")   // verifica se o dicionário contém a chave \"nome\"\n",
    "        {\n",
    "            Console.WriteLine(dicionario[\"nome\"]);   // imprime o valor associado à chave \"nome\"\n",
    "        }\n",
    "    }\n",
    "}"
   ]
  }
 ],
 "metadata": {
  "language_info": {
   "name": "python"
  }
 },
 "nbformat": 4,
 "nbformat_minor": 2
}
